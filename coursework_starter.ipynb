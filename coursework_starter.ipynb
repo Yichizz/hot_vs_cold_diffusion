{
 "cells": [
  {
   "cell_type": "markdown",
   "metadata": {
    "id": "nOqtixLa1y-b"
   },
   "source": [
    "The following example notebook implements standard diffusion\n",
    "with a simple CNN model to generate realistic MNIST digits.\n",
    "\n",
    "This is a modified implementation of `minDiffusion`\n",
    "which implements [DDPM](https://arxiv.org/abs/2006.11239)."
   ]
  },
  {
   "cell_type": "markdown",
   "metadata": {},
   "source": [
    "To run this example notebook,\n",
    "install requirements as in `requirements.txt` (for example, `pip install -r requirements.txt`).\n",
    "You may also wish to follow system-dependent PyTorch instructions\n",
    "[here](https://pytorch.org/) to install accelerated\n",
    "versions of PyTorch, but note they are not needed\n",
    "(I am testing this on my laptop).\n",
    "\n",
    "If you do use accelerated hardware, make sure that your code\n",
    "is still compatible with CPU-only installs.\n",
    "\n",
    "First, let's create a folder to store example images:"
   ]
  },
  {
   "cell_type": "code",
   "execution_count": null,
   "metadata": {
    "colab": {
     "base_uri": "https://localhost:8080/"
    },
    "id": "gaJ7P2ft2G6j",
    "outputId": "7ce57688-755a-431b-c73d-2e32301824ea"
   },
   "outputs": [],
   "source": [
    "!mkdir -p contents"
   ]
  },
  {
   "cell_type": "code",
   "execution_count": 3,
   "metadata": {
    "id": "50FGtZsk1y-b"
   },
   "outputs": [
    {
     "name": "stderr",
     "output_type": "stream",
     "text": [
      "d:\\appfiles\\anaconda\\envs\\cw_aml\\Lib\\site-packages\\tqdm\\auto.py:21: TqdmWarning: IProgress not found. Please update jupyter and ipywidgets. See https://ipywidgets.readthedocs.io/en/stable/user_install.html\n",
      "  from .autonotebook import tqdm as notebook_tqdm\n"
     ]
    }
   ],
   "source": [
    "from typing import Dict, Tuple\n",
    "\n",
    "import numpy as np\n",
    "import torch\n",
    "import torch.nn as nn\n",
    "from accelerate import Accelerator\n",
    "from tqdm import tqdm\n",
    "from torch.utils.data import DataLoader\n",
    "from torchvision import transforms\n",
    "from torchvision.datasets import MNIST\n",
    "from torchvision.utils import save_image, make_grid"
   ]
  },
  {
   "cell_type": "markdown",
   "metadata": {},
   "source": [
    "The following function creates a DDPM training schedule for use when evaluating\n",
    "and training the diffusion model:\n"
   ]
  },
  {
   "cell_type": "markdown",
   "metadata": {},
   "source": [
    "```noise schedular```\n",
    "forward process: build the inputs for our model, which are more and more noisy images. Instead of doing sequentially, we can use the closed form provided in the paprts to calculate the image for any of the timesteps individually (sum of gaussians is also gaussian)\n",
    "\n",
    "zt|x0 = sqrt(alphat)x0 + sqrt(1-aplphat)sigma\n"
   ]
  },
  {
   "cell_type": "code",
   "execution_count": 4,
   "metadata": {
    "id": "MMQ1-BSc1y-c"
   },
   "outputs": [],
   "source": [
    "def ddpm_schedules(beta1: float, beta2: float, T: int) -> Dict[str, torch.Tensor]:\n",
    "    \"\"\"Returns pre-computed schedules for DDPM sampling with a linear noise schedule.\"\"\"\n",
    "    assert beta1 < beta2 < 1.0, \"beta1 and beta2 must be in (0, 1)\"\n",
    "\n",
    "    beta_t = (beta2 - beta1) * torch.arange(0, T + 1, dtype=torch.float32) / T + beta1\n",
    "    alpha_t = torch.exp(torch.cumsum(torch.log(1 - beta_t), dim=0))  # Cumprod in log-space (better precision)\n",
    "\n",
    "    return {\"beta_t\": beta_t, \"alpha_t\": alpha_t}\n"
   ]
  },
  {
   "cell_type": "markdown",
   "metadata": {},
   "source": [
    "Next, we create a simple 2D convolutional neural network. This network\n",
    "is essentially going to try to estimate the diffusion process --- we\n",
    "can then use this network to generate realistic images.\n",
    "\n",
    "First, we create a single CNN block which we will stack to create the\n",
    "full network. We use `LayerNorm` for stable training and no batch dependence."
   ]
  },
  {
   "cell_type": "code",
   "execution_count": 5,
   "metadata": {
    "id": "d16i_bcV1y-d"
   },
   "outputs": [],
   "source": [
    "class CNNBlock(nn.Module):\n",
    "    def __init__(\n",
    "        self,\n",
    "        in_channels,\n",
    "        out_channels,\n",
    "        *,\n",
    "        expected_shape,\n",
    "        act=nn.GELU,\n",
    "        kernel_size=7,\n",
    "    ):\n",
    "        super().__init__()\n",
    "\n",
    "        self.net = nn.Sequential(\n",
    "            nn.Conv2d(in_channels, out_channels, kernel_size, padding=kernel_size // 2),\n",
    "            nn.LayerNorm((out_channels, *expected_shape)), \n",
    "            act()\n",
    "        )\n",
    "\n",
    "    def forward(self, x):\n",
    "        return self.net(x)"
   ]
  },
  {
   "cell_type": "markdown",
   "metadata": {},
   "source": [
    "We then create the full CNN model, which is a stack of these blocks\n",
    "according to the `n_hidden` tuple, which specifies the number of\n",
    "channels at each hidden layer."
   ]
  },
  {
   "cell_type": "markdown",
   "metadata": {},
   "source": [
    "```CNN```\n",
    "not unet here (no downsampling) the image shape remains consistent\n",
    "\n",
    "The imput is a noisy image, the output is the noise in the image (backward process)\n",
    "\n",
    "time embedding is trainable via a fully connected network"
   ]
  },
  {
   "cell_type": "code",
   "execution_count": 6,
   "metadata": {
    "id": "ZSvzdt1f1y-d"
   },
   "outputs": [],
   "source": [
    "class CNN(nn.Module):\n",
    "    def __init__(\n",
    "        self,\n",
    "        in_channels,\n",
    "        expected_shape=(28, 28),\n",
    "        n_hidden=(64, 128, 64),\n",
    "        kernel_size=7,\n",
    "        last_kernel_size=3,\n",
    "        time_embeddings=16, \n",
    "        act=nn.GELU,\n",
    "    ) -> None:\n",
    "        super().__init__()\n",
    "        last = in_channels\n",
    "\n",
    "        self.blocks = nn.ModuleList()\n",
    "        for hidden in n_hidden:\n",
    "            self.blocks.append(\n",
    "                CNNBlock(\n",
    "                    last,\n",
    "                    hidden,\n",
    "                    expected_shape=expected_shape,\n",
    "                    kernel_size=kernel_size,\n",
    "                    act=act,\n",
    "                )\n",
    "            )\n",
    "            last = hidden\n",
    "\n",
    "        # The final layer, we use a regular Conv2d to get the\n",
    "        # correct scale and shape (and avoid applying the activation)\n",
    "        self.blocks.append(\n",
    "            nn.Conv2d(\n",
    "                last,\n",
    "                in_channels,\n",
    "                last_kernel_size,\n",
    "                padding=last_kernel_size // 2,\n",
    "            )\n",
    "        )\n",
    "\n",
    "        ## This part is literally just to put the single scalar \"t\" into the CNN\n",
    "        ## in a nice, high-dimensional way:\n",
    "        self.time_embed = nn.Sequential(\n",
    "            nn.Linear(time_embeddings * 2, 128), act(),\n",
    "            nn.Linear(128, 128), act(),\n",
    "            nn.Linear(128, 128), act(),\n",
    "            nn.Linear(128, n_hidden[0]),\n",
    "        )\n",
    "        frequencies = torch.tensor(\n",
    "            [0] + [2 * np.pi * 1.5**i for i in range(time_embeddings - 1)]\n",
    "        ) # 1.5 is a hyperparameter means that the frequency of the time encoding increases by 1.5x each time\n",
    "        self.register_buffer(\"frequencies\", frequencies)\n",
    "\n",
    "    def time_encoding(self, t: torch.Tensor) -> torch.Tensor:\n",
    "        phases = torch.concat(\n",
    "            (\n",
    "                torch.sin(t[:, None] * self.frequencies[None, :]), # has shape (batch, time_embeddings)\n",
    "                torch.cos(t[:, None] * self.frequencies[None, :]) - 1, # has shape (batch, time_embeddings)\n",
    "            ),\n",
    "            dim=1,\n",
    "        ) # has shape (batch, time_embeddings * 2)\n",
    "\n",
    "        return self.time_embed(phases)[:, :, None, None] # has shape (batch, n_hidden[0], 1, 1)\n",
    "\n",
    "    def forward(self, x: torch.Tensor, t: torch.Tensor) -> torch.Tensor:\n",
    "        # Shapes of input:\n",
    "        #    x: (batch, chan, height, width)\n",
    "        #    t: (batch,)\n",
    "\n",
    "        embed = self.blocks[0](x)\n",
    "        # ^ (batch, n_hidden[0], height, width)\n",
    "\n",
    "        # Add information about time along the diffusion process\n",
    "        #  (Providing this information by superimposing in latent space)\n",
    "        embed += self.time_encoding(t) \n",
    "        #         ^ (batch, n_hidden[0], 1, 1) - thus, broadcasting\n",
    "        #           to the entire spatial domain\n",
    "\n",
    "        for block in self.blocks[1:]:\n",
    "            embed = block(embed)\n",
    "\n",
    "        return embed"
   ]
  },
  {
   "cell_type": "markdown",
   "metadata": {},
   "source": [
    "Next, we define the actual diffusion model, which specifies the training\n",
    "schedule, takes an arbitrary model for estimating the\n",
    "diffusion process (such as the CNN above),\n",
    "and computes the corresponding loss (as well as generating samples)."
   ]
  },
  {
   "cell_type": "code",
   "execution_count": 7,
   "metadata": {
    "id": "pCZe8Q651y-d"
   },
   "outputs": [],
   "source": [
    "class DDPM(nn.Module):\n",
    "    def __init__(\n",
    "        self,\n",
    "        gt,\n",
    "        betas: Tuple[float, float],\n",
    "        n_T: int,\n",
    "        criterion: nn.Module = nn.MSELoss(),\n",
    "    ) -> None:\n",
    "        super().__init__()\n",
    "\n",
    "        self.gt = gt \n",
    "\n",
    "        noise_schedule = ddpm_schedules(betas[0], betas[1], n_T)\n",
    "\n",
    "        # `register_buffer` will track these tensors for device placement, but\n",
    "        # not store them as model parameters. This is useful for constants.\n",
    "        self.register_buffer(\"beta_t\", noise_schedule[\"beta_t\"])\n",
    "        self.beta_t  # Exists! Set by register_buffer\n",
    "        self.register_buffer(\"alpha_t\", noise_schedule[\"alpha_t\"])\n",
    "        self.alpha_t\n",
    "\n",
    "        self.n_T = n_T\n",
    "        self.criterion = criterion\n",
    "\n",
    "    def forward(self, x: torch.Tensor) -> torch.Tensor:\n",
    "        \"\"\"Algorithm 18.1 in Prince\"\"\"\n",
    "\n",
    "        t = torch.randint(1, self.n_T, (x.shape[0],), device=x.device)\n",
    "        eps = torch.randn_like(x)  # eps ~ N(0, 1)\n",
    "        alpha_t = self.alpha_t[t, None, None, None]  # Get right shape for broadcasting\n",
    "\n",
    "        z_t = torch.sqrt(alpha_t) * x + torch.sqrt(1 - alpha_t) * eps\n",
    "        # This is the z_t, which is sqrt(alphabar) x_0 + sqrt(1-alphabar) * eps\n",
    "        # We should predict the \"error term\" from this z_t. Loss is what we return.\n",
    "\n",
    "        return self.criterion(eps, self.gt(z_t, t / self.n_T))\n",
    "\n",
    "    def sample(self, n_sample: int, size, device) -> torch.Tensor:\n",
    "        \"\"\"Algorithm 18.2 in Prince\"\"\"\n",
    "\n",
    "        _one = torch.ones(n_sample, device=device)\n",
    "        z_t = torch.randn(n_sample, *size, device=device)\n",
    "        for i in range(self.n_T, 0, -1):\n",
    "            alpha_t = self.alpha_t[i]\n",
    "            beta_t = self.beta_t[i]\n",
    "\n",
    "            # First line of loop:\n",
    "            z_t -= (beta_t / torch.sqrt(1 - alpha_t)) * self.gt(z_t, (i/self.n_T) * _one)\n",
    "            z_t /= torch.sqrt(1 - beta_t)\n",
    "\n",
    "            if i > 1:\n",
    "                # Last line of loop:\n",
    "                z_t += torch.sqrt(beta_t) * torch.randn_like(z_t)\n",
    "            # (We don't add noise at the final step - i.e., the last line of the algorithm)\n",
    "\n",
    "        return z_t"
   ]
  },
  {
   "cell_type": "markdown",
   "metadata": {},
   "source": [
    "We will run this on MNIST. We perform some basic preprocessing, and set up the data loader:"
   ]
  },
  {
   "cell_type": "code",
   "execution_count": 8,
   "metadata": {
    "id": "a6jMrCRa1y-d"
   },
   "outputs": [
    {
     "name": "stdout",
     "output_type": "stream",
     "text": [
      "Downloading http://yann.lecun.com/exdb/mnist/train-images-idx3-ubyte.gz\n",
      "Downloading http://yann.lecun.com/exdb/mnist/train-images-idx3-ubyte.gz to ./data\\MNIST\\raw\\train-images-idx3-ubyte.gz\n"
     ]
    },
    {
     "name": "stderr",
     "output_type": "stream",
     "text": [
      "100%|██████████| 9912422/9912422 [00:00<00:00, 13223136.98it/s]\n"
     ]
    },
    {
     "name": "stdout",
     "output_type": "stream",
     "text": [
      "Extracting ./data\\MNIST\\raw\\train-images-idx3-ubyte.gz to ./data\\MNIST\\raw\n",
      "\n",
      "Downloading http://yann.lecun.com/exdb/mnist/train-labels-idx1-ubyte.gz\n",
      "Downloading http://yann.lecun.com/exdb/mnist/train-labels-idx1-ubyte.gz to ./data\\MNIST\\raw\\train-labels-idx1-ubyte.gz\n"
     ]
    },
    {
     "name": "stderr",
     "output_type": "stream",
     "text": [
      "100%|██████████| 28881/28881 [00:00<?, ?it/s]"
     ]
    },
    {
     "name": "stdout",
     "output_type": "stream",
     "text": [
      "Extracting ./data\\MNIST\\raw\\train-labels-idx1-ubyte.gz to ./data\\MNIST\\raw\n",
      "\n",
      "Downloading http://yann.lecun.com/exdb/mnist/t10k-images-idx3-ubyte.gz\n"
     ]
    },
    {
     "name": "stderr",
     "output_type": "stream",
     "text": [
      "\n"
     ]
    },
    {
     "name": "stdout",
     "output_type": "stream",
     "text": [
      "Downloading http://yann.lecun.com/exdb/mnist/t10k-images-idx3-ubyte.gz to ./data\\MNIST\\raw\\t10k-images-idx3-ubyte.gz\n"
     ]
    },
    {
     "name": "stderr",
     "output_type": "stream",
     "text": [
      "100%|██████████| 1648877/1648877 [00:00<00:00, 11302821.66it/s]\n"
     ]
    },
    {
     "name": "stdout",
     "output_type": "stream",
     "text": [
      "Extracting ./data\\MNIST\\raw\\t10k-images-idx3-ubyte.gz to ./data\\MNIST\\raw\n",
      "\n",
      "Downloading http://yann.lecun.com/exdb/mnist/t10k-labels-idx1-ubyte.gz\n",
      "Downloading http://yann.lecun.com/exdb/mnist/t10k-labels-idx1-ubyte.gz to ./data\\MNIST\\raw\\t10k-labels-idx1-ubyte.gz\n"
     ]
    },
    {
     "name": "stderr",
     "output_type": "stream",
     "text": [
      "100%|██████████| 4542/4542 [00:00<?, ?it/s]"
     ]
    },
    {
     "name": "stdout",
     "output_type": "stream",
     "text": [
      "Extracting ./data\\MNIST\\raw\\t10k-labels-idx1-ubyte.gz to ./data\\MNIST\\raw\n",
      "\n"
     ]
    },
    {
     "name": "stderr",
     "output_type": "stream",
     "text": [
      "\n"
     ]
    }
   ],
   "source": [
    "tf = transforms.Compose([transforms.ToTensor(), transforms.Normalize((0.5,), (1.0))])\n",
    "dataset = MNIST(\"./data\", train=True, download=True, transform=tf)\n",
    "dataloader = DataLoader(dataset, batch_size=128, shuffle=True, num_workers=4, drop_last=True) # 1000/128 = 7 batches (drop last)"
   ]
  },
  {
   "cell_type": "markdown",
   "metadata": {},
   "source": [
    "We create our model with a given choice of hidden layers and activation function. We also choose a learning rate."
   ]
  },
  {
   "cell_type": "code",
   "execution_count": 9,
   "metadata": {
    "id": "-6ApENps1y-d"
   },
   "outputs": [],
   "source": [
    "gt = CNN(in_channels=1, expected_shape=(28, 28), n_hidden=(16, 32, 32, 16), act=nn.GELU)\n",
    "# For testing: (16, 32, 32, 16)\n",
    "# For more capacity (for example): (64, 128, 256, 128, 64)\n",
    "ddpm = DDPM(gt=gt, betas=(1e-4, 0.02), n_T=1000)\n",
    "optim = torch.optim.Adam(ddpm.parameters(), lr=2e-4)"
   ]
  },
  {
   "cell_type": "markdown",
   "metadata": {},
   "source": [
    "We could set up a GPU if we have one, which is done below.\n",
    "\n",
    "Here, we use HuggingFace's `accelerate` library, which abstracts away all the `.to(device)` calls for us.\n",
    "This lets us focus on the model itself rather than data movement.\n",
    "It also does a few other tricks to speed up calculations.\n",
    "\n",
    "PyTorch Lightning, which we discussed during the course, is another option that also handles a lot more, but is a bit heavyweight.\n",
    "`accelerate` is a simpler option closer to raw PyTorch.\n",
    "However, if you prefer, you could choose to use Lightning for the coursework!"
   ]
  },
  {
   "cell_type": "code",
   "execution_count": 10,
   "metadata": {},
   "outputs": [],
   "source": [
    "accelerator = Accelerator()\n",
    "\n",
    "# We wrap our model, optimizer, and dataloaders with `accelerator.prepare`,\n",
    "# which lets HuggingFace's Accelerate handle the device placement and gradient accumulation.\n",
    "ddpm, optim, dataloader = accelerator.prepare(ddpm, optim, dataloader)"
   ]
  },
  {
   "cell_type": "markdown",
   "metadata": {},
   "source": [
    "First, let's just make sure this works:"
   ]
  },
  {
   "cell_type": "code",
   "execution_count": 11,
   "metadata": {
    "id": "8wxKbzEa1y-e"
   },
   "outputs": [],
   "source": [
    "for x, _ in dataloader:\n",
    "    break\n",
    "\n",
    "with torch.no_grad():\n",
    "    ddpm(x)"
   ]
  },
  {
   "cell_type": "markdown",
   "metadata": {},
   "source": [
    "Now, let's train it. You can exit early by interrupting the kernel. Images\n",
    "are saved to the `contents` folder."
   ]
  },
  {
   "cell_type": "code",
   "execution_count": 13,
   "metadata": {
    "colab": {
     "base_uri": "https://localhost:8080/"
    },
    "id": "LLiE8x-c1y-e",
    "outputId": "a9f81c32-96c2-4e3b-cee9-fd2d2d4e316c"
   },
   "outputs": [
    {
     "name": "stderr",
     "output_type": "stream",
     "text": [
      "loss: 0.139: 100%|██████████| 468/468 [00:30<00:00, 15.28it/s]\n",
      "loss: 0.0951: 100%|██████████| 468/468 [00:28<00:00, 16.48it/s]\n",
      "loss: 0.0774: 100%|██████████| 468/468 [00:22<00:00, 21.02it/s]\n",
      "loss: 0.0674: 100%|██████████| 468/468 [00:21<00:00, 21.41it/s]\n",
      "loss: 0.0606: 100%|██████████| 468/468 [00:23<00:00, 20.16it/s]\n",
      "loss: 0.0556: 100%|██████████| 468/468 [00:25<00:00, 18.08it/s]\n",
      "loss: 0.0518: 100%|██████████| 468/468 [00:22<00:00, 20.91it/s]\n",
      "loss: 0.0488: 100%|██████████| 468/468 [00:38<00:00, 12.25it/s]\n",
      "loss: 0.0463: 100%|██████████| 468/468 [00:27<00:00, 17.22it/s]\n",
      "loss: 0.0443: 100%|██████████| 468/468 [00:29<00:00, 16.00it/s]\n",
      "loss: 0.0426: 100%|██████████| 468/468 [00:33<00:00, 14.10it/s]\n",
      "loss: 0.0411: 100%|██████████| 468/468 [00:20<00:00, 22.29it/s]\n",
      "loss: 0.0398: 100%|██████████| 468/468 [00:21<00:00, 21.62it/s]\n",
      "loss: 0.0386: 100%|██████████| 468/468 [00:29<00:00, 15.93it/s]\n",
      "loss: 0.0376: 100%|██████████| 468/468 [00:25<00:00, 18.46it/s]\n",
      "loss: 0.0366: 100%|██████████| 468/468 [00:23<00:00, 20.16it/s]\n",
      "loss: 0.0358: 100%|██████████| 468/468 [00:22<00:00, 20.93it/s]\n",
      "loss: 0.0351: 100%|██████████| 468/468 [00:27<00:00, 16.89it/s]\n",
      "loss: 0.0344: 100%|██████████| 468/468 [00:27<00:00, 16.95it/s]\n",
      "loss: 0.0337: 100%|██████████| 468/468 [00:28<00:00, 16.37it/s]\n",
      "loss: 0.0331: 100%|██████████| 468/468 [00:29<00:00, 15.85it/s]\n",
      "loss: 0.0326: 100%|██████████| 468/468 [00:27<00:00, 17.21it/s]\n",
      "loss: 0.0321: 100%|██████████| 468/468 [00:23<00:00, 19.93it/s]\n",
      "loss: 0.0316: 100%|██████████| 468/468 [00:28<00:00, 16.52it/s]\n",
      "loss: 0.0312: 100%|██████████| 468/468 [00:30<00:00, 15.47it/s]\n",
      "loss: 0.0308: 100%|██████████| 468/468 [00:27<00:00, 17.16it/s]\n",
      "loss: 0.0304: 100%|██████████| 468/468 [00:24<00:00, 19.31it/s]\n",
      "loss: 0.03: 100%|██████████| 468/468 [00:22<00:00, 20.94it/s]  \n",
      "loss: 0.0297: 100%|██████████| 468/468 [00:27<00:00, 17.11it/s]\n",
      "loss: 0.0294: 100%|██████████| 468/468 [00:34<00:00, 13.42it/s]\n",
      "loss: 0.0291: 100%|██████████| 468/468 [00:38<00:00, 12.19it/s]\n",
      "loss: 0.0288: 100%|██████████| 468/468 [00:30<00:00, 15.14it/s]\n",
      "loss: 0.0285: 100%|██████████| 468/468 [00:28<00:00, 16.57it/s]\n",
      "loss: 0.0282: 100%|██████████| 468/468 [00:29<00:00, 15.70it/s]\n",
      "loss: 0.028: 100%|██████████| 468/468 [00:26<00:00, 17.96it/s] \n",
      "loss: 0.0277: 100%|██████████| 468/468 [00:30<00:00, 15.13it/s]\n",
      "loss: 0.0275: 100%|██████████| 468/468 [00:30<00:00, 15.38it/s]\n",
      "loss: 0.0273: 100%|██████████| 468/468 [00:28<00:00, 16.32it/s]\n",
      "loss: 0.0271: 100%|██████████| 468/468 [00:31<00:00, 14.79it/s]\n",
      "loss: 0.0269: 100%|██████████| 468/468 [00:21<00:00, 21.67it/s]\n",
      "loss: 0.0267: 100%|██████████| 468/468 [00:31<00:00, 14.77it/s]\n",
      "loss: 0.0265: 100%|██████████| 468/468 [00:33<00:00, 14.10it/s]\n",
      "loss: 0.0263: 100%|██████████| 468/468 [00:29<00:00, 15.86it/s]\n",
      "loss: 0.0261: 100%|██████████| 468/468 [00:26<00:00, 18.00it/s]\n",
      "loss: 0.026: 100%|██████████| 468/468 [00:23<00:00, 19.78it/s] \n",
      "loss: 0.0258: 100%|██████████| 468/468 [00:25<00:00, 18.53it/s]\n",
      "loss: 0.0257: 100%|██████████| 468/468 [00:38<00:00, 12.30it/s]\n",
      "loss: 0.0255: 100%|██████████| 468/468 [00:28<00:00, 16.32it/s]\n",
      "loss: 0.0254: 100%|██████████| 468/468 [00:23<00:00, 19.87it/s]\n",
      "loss: 0.0252: 100%|██████████| 468/468 [00:28<00:00, 16.19it/s]\n",
      "loss: 0.0251: 100%|██████████| 468/468 [00:27<00:00, 17.30it/s]\n",
      "loss: 0.025: 100%|██████████| 468/468 [00:21<00:00, 21.85it/s] \n",
      "loss: 0.0249: 100%|██████████| 468/468 [00:22<00:00, 20.88it/s]\n",
      "loss: 0.0247: 100%|██████████| 468/468 [00:25<00:00, 18.51it/s]\n",
      "loss: 0.0246: 100%|██████████| 468/468 [00:34<00:00, 13.59it/s]\n",
      "loss: 0.0245: 100%|██████████| 468/468 [00:28<00:00, 16.52it/s]\n",
      "loss: 0.0244: 100%|██████████| 468/468 [00:27<00:00, 17.27it/s]\n",
      "loss: 0.0243: 100%|██████████| 468/468 [00:24<00:00, 18.82it/s]\n",
      "loss: 0.0242: 100%|██████████| 468/468 [00:27<00:00, 17.11it/s]\n",
      "loss: 0.0241: 100%|██████████| 468/468 [00:25<00:00, 18.71it/s]\n",
      "loss: 0.024: 100%|██████████| 468/468 [00:24<00:00, 19.37it/s] \n",
      "loss: 0.0239: 100%|██████████| 468/468 [00:24<00:00, 18.76it/s]\n",
      "loss: 0.0238: 100%|██████████| 468/468 [00:28<00:00, 16.33it/s]\n",
      "loss: 0.0237: 100%|██████████| 468/468 [00:21<00:00, 21.80it/s]\n",
      "loss: 0.0236: 100%|██████████| 468/468 [00:26<00:00, 17.43it/s]\n",
      "loss: 0.0235: 100%|██████████| 468/468 [00:30<00:00, 15.36it/s]\n",
      "loss: 0.0234: 100%|██████████| 468/468 [00:25<00:00, 18.55it/s]\n",
      "loss: 0.0234: 100%|██████████| 468/468 [00:32<00:00, 14.46it/s]\n",
      "loss: 0.0233: 100%|██████████| 468/468 [00:32<00:00, 14.52it/s]\n",
      "loss: 0.0232: 100%|██████████| 468/468 [00:32<00:00, 14.48it/s]\n",
      "loss: 0.0231: 100%|██████████| 468/468 [00:26<00:00, 18.00it/s]\n",
      "loss: 0.023: 100%|██████████| 468/468 [00:32<00:00, 14.47it/s] \n",
      "loss: 0.023: 100%|██████████| 468/468 [00:29<00:00, 15.69it/s]\n",
      "loss: 0.0229: 100%|██████████| 468/468 [00:21<00:00, 21.55it/s]\n",
      "loss: 0.0228: 100%|██████████| 468/468 [00:27<00:00, 16.92it/s]\n",
      "loss: 0.0228: 100%|██████████| 468/468 [00:34<00:00, 13.75it/s]\n",
      "loss: 0.0227: 100%|██████████| 468/468 [00:32<00:00, 14.33it/s]\n",
      "loss: 0.0226: 100%|██████████| 468/468 [00:32<00:00, 14.42it/s]\n",
      "loss: 0.0226: 100%|██████████| 468/468 [00:25<00:00, 18.64it/s]\n",
      "loss: 0.0225: 100%|██████████| 468/468 [00:23<00:00, 20.10it/s]\n",
      "loss: 0.0224: 100%|██████████| 468/468 [00:32<00:00, 14.22it/s]\n",
      "loss: 0.0224: 100%|██████████| 468/468 [00:23<00:00, 19.82it/s]\n",
      "loss: 0.0223: 100%|██████████| 468/468 [00:23<00:00, 20.20it/s]\n",
      "loss: 0.0223: 100%|██████████| 468/468 [00:31<00:00, 14.68it/s]\n",
      "loss: 0.0222: 100%|██████████| 468/468 [00:25<00:00, 18.07it/s]\n",
      "loss: 0.0222: 100%|██████████| 468/468 [00:34<00:00, 13.75it/s]\n",
      "loss: 0.0221: 100%|██████████| 468/468 [00:31<00:00, 14.82it/s]\n",
      "loss: 0.022: 100%|██████████| 468/468 [00:26<00:00, 17.93it/s] \n",
      "loss: 0.022: 100%|██████████| 468/468 [00:32<00:00, 14.42it/s]\n",
      "loss: 0.0219: 100%|██████████| 468/468 [00:21<00:00, 21.57it/s]\n",
      "loss: 0.0219: 100%|██████████| 468/468 [00:27<00:00, 16.99it/s]\n",
      "loss: 0.0218: 100%|██████████| 468/468 [00:28<00:00, 16.62it/s]\n",
      "loss: 0.0218: 100%|██████████| 468/468 [00:29<00:00, 16.00it/s]\n",
      "loss: 0.0217: 100%|██████████| 468/468 [00:33<00:00, 14.15it/s]\n",
      "loss: 0.0217: 100%|██████████| 468/468 [00:27<00:00, 16.88it/s]\n",
      "loss: 0.0217: 100%|██████████| 468/468 [00:31<00:00, 15.02it/s]\n",
      "loss: 0.0216: 100%|██████████| 468/468 [00:22<00:00, 20.41it/s]\n",
      "loss: 0.0216: 100%|██████████| 468/468 [00:28<00:00, 16.24it/s]\n",
      "loss: 0.0215: 100%|██████████| 468/468 [00:31<00:00, 14.84it/s]\n",
      "loss: 0.0215: 100%|██████████| 468/468 [00:22<00:00, 21.21it/s]\n"
     ]
    }
   ],
   "source": [
    "n_epoch = 100\n",
    "losses = []\n",
    "\n",
    "for i in range(n_epoch):\n",
    "    ddpm.train()\n",
    "\n",
    "    pbar = tqdm(dataloader)  # Wrap our loop with a visual progress bar\n",
    "    for x, _ in pbar:\n",
    "        optim.zero_grad()\n",
    "\n",
    "        loss = ddpm(x)\n",
    "\n",
    "        loss.backward()\n",
    "        # ^Technically should be `accelerator.backward(loss)` but not necessary for local training\n",
    "\n",
    "        losses.append(loss.item())\n",
    "        avg_loss = np.average(losses[min(len(losses)-100, 0):])\n",
    "        pbar.set_description(f\"epoch {i+1}/{n_epoch}, loss: {avg_loss:.3f}\")\n",
    "\n",
    "        optim.step()\n",
    "\n",
    "    ddpm.eval()\n",
    "    with torch.no_grad():\n",
    "        xh = ddpm.sample(16, (1, 28, 28), accelerator.device)  # Can get device explicitly with `accelerator.device`\n",
    "        grid = make_grid(xh, nrow=4)\n",
    "\n",
    "        # Save samples to `./contents` directory\n",
    "        save_image(grid, f\"./contents/ddpm_sample_{i:04d}.png\")\n",
    "\n",
    "        # save model\n",
    "        torch.save(ddpm.state_dict(), f\"./ddpm_mnist.pth\")\n"
   ]
  },
  {
   "cell_type": "code",
   "execution_count": 17,
   "metadata": {},
   "outputs": [
    {
     "name": "stderr",
     "output_type": "stream",
     "text": [
      "d:\\appfiles\\anaconda\\envs\\cw_aml\\Lib\\site-packages\\numpy\\lib\\function_base.py:520: RuntimeWarning: Mean of empty slice.\n",
      "  avg = a.mean(axis, **keepdims_kw)\n",
      "d:\\appfiles\\anaconda\\envs\\cw_aml\\Lib\\site-packages\\numpy\\core\\_methods.py:129: RuntimeWarning: invalid value encountered in scalar divide\n",
      "  ret = ret.dtype.type(ret / rcount)\n"
     ]
    },
    {
     "data": {
      "image/png": "[encoded data removed]",
      "text/plain": [
       "<Figure size 640x480 with 1 Axes>"
      ]
     },
     "metadata": {},
     "output_type": "display_data"
    }
   ],
   "source": [
    "# visualize average loss per epoch\n",
    "import matplotlib.pyplot as plt\n",
    "len(losses)# 7*128*100\n",
    "loss_per_epoch = [np.average(losses[i*7*128:(i+1)*7*128]) for i in range(100)]\n",
    "plt.plot(loss_per_epoch)\n",
    "plt.show()"
   ]
  }
 ],
 "metadata": {
  "accelerator": "GPU",
  "colab": {
   "gpuType": "A100",
   "machine_shape": "hm",
   "provenance": []
  },
  "kernelspec": {
   "display_name": "Python 3",
   "name": "python3"
  },
  "language_info": {
   "codemirror_mode": {
    "name": "ipython",
    "version": 3
   },
   "file_extension": ".py",
   "mimetype": "text/x-python",
   "name": "python",
   "nbconvert_exporter": "python",
   "pygments_lexer": "ipython3",
   "version": "3.12.2"
  }
 },
 "nbformat": 4,
 "nbformat_minor": 0
}
